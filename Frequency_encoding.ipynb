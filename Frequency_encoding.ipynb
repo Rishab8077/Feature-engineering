{
 "cells": [
  {
   "cell_type": "markdown",
   "id": "ec4d7a2d",
   "metadata": {},
   "source": [
    "This technique helps to replace the categorical variable with the count of labels"
   ]
  },
  {
   "cell_type": "code",
   "execution_count": 1,
   "id": "2d348e12",
   "metadata": {},
   "outputs": [],
   "source": [
    "import pandas as pd\n",
    "import numpy as np"
   ]
  },
  {
   "cell_type": "code",
   "execution_count": 2,
   "id": "cf0c2723",
   "metadata": {},
   "outputs": [
    {
     "data": {
      "text/html": [
       "<div>\n",
       "<style scoped>\n",
       "    .dataframe tbody tr th:only-of-type {\n",
       "        vertical-align: middle;\n",
       "    }\n",
       "\n",
       "    .dataframe tbody tr th {\n",
       "        vertical-align: top;\n",
       "    }\n",
       "\n",
       "    .dataframe thead th {\n",
       "        text-align: right;\n",
       "    }\n",
       "</style>\n",
       "<table border=\"1\" class=\"dataframe\">\n",
       "  <thead>\n",
       "    <tr style=\"text-align: right;\">\n",
       "      <th></th>\n",
       "      <th>X1</th>\n",
       "      <th>X2</th>\n",
       "    </tr>\n",
       "  </thead>\n",
       "  <tbody>\n",
       "    <tr>\n",
       "      <th>0</th>\n",
       "      <td>v</td>\n",
       "      <td>n</td>\n",
       "    </tr>\n",
       "    <tr>\n",
       "      <th>1</th>\n",
       "      <td>b</td>\n",
       "      <td>ai</td>\n",
       "    </tr>\n",
       "    <tr>\n",
       "      <th>2</th>\n",
       "      <td>v</td>\n",
       "      <td>as</td>\n",
       "    </tr>\n",
       "    <tr>\n",
       "      <th>3</th>\n",
       "      <td>l</td>\n",
       "      <td>n</td>\n",
       "    </tr>\n",
       "    <tr>\n",
       "      <th>4</th>\n",
       "      <td>s</td>\n",
       "      <td>as</td>\n",
       "    </tr>\n",
       "  </tbody>\n",
       "</table>\n",
       "</div>"
      ],
      "text/plain": [
       "  X1  X2\n",
       "0  v   n\n",
       "1  b  ai\n",
       "2  v  as\n",
       "3  l   n\n",
       "4  s  as"
      ]
     },
     "execution_count": 2,
     "metadata": {},
     "output_type": "execute_result"
    }
   ],
   "source": [
    "data = pd.read_csv('C:\\\\Users\\\\Dell\\\\Python practise\\\\one hot encoding\\\\test.csv',usecols=['X1','X2'])\n",
    "data.head()"
   ]
  },
  {
   "cell_type": "code",
   "execution_count": 3,
   "id": "6cf7ebad",
   "metadata": {},
   "outputs": [
    {
     "data": {
      "text/plain": [
       "0        v\n",
       "1        b\n",
       "2        v\n",
       "3        l\n",
       "4        s\n",
       "        ..\n",
       "4204     h\n",
       "4205    aa\n",
       "4206     v\n",
       "4207     v\n",
       "4208    aa\n",
       "Name: X1, Length: 4209, dtype: object"
      ]
     },
     "execution_count": 3,
     "metadata": {},
     "output_type": "execute_result"
    }
   ],
   "source": [
    "data.X1"
   ]
  },
  {
   "cell_type": "code",
   "execution_count": 4,
   "id": "9d7a4b3f",
   "metadata": {},
   "outputs": [
    {
     "data": {
      "text/plain": [
       "(4209, 2)"
      ]
     },
     "execution_count": 4,
     "metadata": {},
     "output_type": "execute_result"
    }
   ],
   "source": [
    "data.shape"
   ]
  },
  {
   "cell_type": "code",
   "execution_count": 5,
   "id": "3895774d",
   "metadata": {},
   "outputs": [
    {
     "data": {
      "text/plain": [
       "(4209, 72)"
      ]
     },
     "execution_count": 5,
     "metadata": {},
     "output_type": "execute_result"
    }
   ],
   "source": [
    "pd.get_dummies(data).shape"
   ]
  },
  {
   "cell_type": "code",
   "execution_count": 6,
   "id": "37e29d3a",
   "metadata": {},
   "outputs": [
    {
     "name": "stdout",
     "output_type": "stream",
     "text": [
      "X1 : 27 labels\n",
      "X2 : 45 labels\n"
     ]
    }
   ],
   "source": [
    "for cols in data.columns:\n",
    "    print(cols,':',len(data[cols].unique()),'labels')"
   ]
  },
  {
   "cell_type": "code",
   "execution_count": 7,
   "id": "01d5a942",
   "metadata": {},
   "outputs": [
    {
     "data": {
      "text/plain": [
       "{'as': 1658,\n",
       " 'ae': 478,\n",
       " 'ai': 462,\n",
       " 'm': 348,\n",
       " 'ak': 260,\n",
       " 'r': 155,\n",
       " 'n': 113,\n",
       " 's': 100,\n",
       " 'f': 85,\n",
       " 'e': 84,\n",
       " 'ay': 78,\n",
       " 'aq': 72,\n",
       " 'a': 44,\n",
       " 'b': 38,\n",
       " 'k': 25,\n",
       " 't': 25,\n",
       " 'ag': 23,\n",
       " 'ac': 20,\n",
       " 'ao': 19,\n",
       " 'i': 15,\n",
       " 'z': 12,\n",
       " 'ap': 11,\n",
       " 'p': 10,\n",
       " 'aw': 9,\n",
       " 'd': 6,\n",
       " 'h': 6,\n",
       " 'q': 5,\n",
       " 'g': 5,\n",
       " 'au': 5,\n",
       " 'ad': 4,\n",
       " 'ab': 4,\n",
       " 'al': 4,\n",
       " 'af': 4,\n",
       " 'w': 3,\n",
       " 'am': 3,\n",
       " 'ah': 3,\n",
       " 'at': 3,\n",
       " 'j': 2,\n",
       " 'x': 2,\n",
       " 'ax': 1,\n",
       " 'aj': 1,\n",
       " 'u': 1,\n",
       " 'y': 1,\n",
       " 'av': 1,\n",
       " 'an': 1}"
      ]
     },
     "execution_count": 7,
     "metadata": {},
     "output_type": "execute_result"
    }
   ],
   "source": [
    "#converting it into dictionary so that we can map later\n",
    "data.X2.value_counts().to_dict()"
   ]
  },
  {
   "cell_type": "code",
   "execution_count": 8,
   "id": "01bbf31e",
   "metadata": {},
   "outputs": [
    {
     "data": {
      "text/plain": [
       "{'as': 1658,\n",
       " 'ae': 478,\n",
       " 'ai': 462,\n",
       " 'm': 348,\n",
       " 'ak': 260,\n",
       " 'r': 155,\n",
       " 'n': 113,\n",
       " 's': 100,\n",
       " 'f': 85,\n",
       " 'e': 84,\n",
       " 'ay': 78,\n",
       " 'aq': 72,\n",
       " 'a': 44,\n",
       " 'b': 38,\n",
       " 'k': 25,\n",
       " 't': 25,\n",
       " 'ag': 23,\n",
       " 'ac': 20,\n",
       " 'ao': 19,\n",
       " 'i': 15,\n",
       " 'z': 12,\n",
       " 'ap': 11,\n",
       " 'p': 10,\n",
       " 'aw': 9,\n",
       " 'd': 6,\n",
       " 'h': 6,\n",
       " 'q': 5,\n",
       " 'g': 5,\n",
       " 'au': 5,\n",
       " 'ad': 4,\n",
       " 'ab': 4,\n",
       " 'al': 4,\n",
       " 'af': 4,\n",
       " 'w': 3,\n",
       " 'am': 3,\n",
       " 'ah': 3,\n",
       " 'at': 3,\n",
       " 'j': 2,\n",
       " 'x': 2,\n",
       " 'ax': 1,\n",
       " 'aj': 1,\n",
       " 'u': 1,\n",
       " 'y': 1,\n",
       " 'av': 1,\n",
       " 'an': 1}"
      ]
     },
     "execution_count": 8,
     "metadata": {},
     "output_type": "execute_result"
    }
   ],
   "source": [
    "counts_x1=data.X2.value_counts().to_dict()\n",
    "counts_x1"
   ]
  },
  {
   "cell_type": "code",
   "execution_count": 9,
   "id": "6acebbc0",
   "metadata": {},
   "outputs": [
    {
     "data": {
      "text/html": [
       "<div>\n",
       "<style scoped>\n",
       "    .dataframe tbody tr th:only-of-type {\n",
       "        vertical-align: middle;\n",
       "    }\n",
       "\n",
       "    .dataframe tbody tr th {\n",
       "        vertical-align: top;\n",
       "    }\n",
       "\n",
       "    .dataframe thead th {\n",
       "        text-align: right;\n",
       "    }\n",
       "</style>\n",
       "<table border=\"1\" class=\"dataframe\">\n",
       "  <thead>\n",
       "    <tr style=\"text-align: right;\">\n",
       "      <th></th>\n",
       "      <th>X1</th>\n",
       "      <th>X2</th>\n",
       "    </tr>\n",
       "  </thead>\n",
       "  <tbody>\n",
       "    <tr>\n",
       "      <th>0</th>\n",
       "      <td>v</td>\n",
       "      <td>113</td>\n",
       "    </tr>\n",
       "    <tr>\n",
       "      <th>1</th>\n",
       "      <td>b</td>\n",
       "      <td>462</td>\n",
       "    </tr>\n",
       "    <tr>\n",
       "      <th>2</th>\n",
       "      <td>v</td>\n",
       "      <td>1658</td>\n",
       "    </tr>\n",
       "    <tr>\n",
       "      <th>3</th>\n",
       "      <td>l</td>\n",
       "      <td>113</td>\n",
       "    </tr>\n",
       "    <tr>\n",
       "      <th>4</th>\n",
       "      <td>s</td>\n",
       "      <td>1658</td>\n",
       "    </tr>\n",
       "  </tbody>\n",
       "</table>\n",
       "</div>"
      ],
      "text/plain": [
       "  X1    X2\n",
       "0  v   113\n",
       "1  b   462\n",
       "2  v  1658\n",
       "3  l   113\n",
       "4  s  1658"
      ]
     },
     "execution_count": 9,
     "metadata": {},
     "output_type": "execute_result"
    }
   ],
   "source": [
    "data.X2=data.X2.map(counts_x1)\n",
    "data.head()"
   ]
  },
  {
   "cell_type": "code",
   "execution_count": null,
   "id": "49edca12",
   "metadata": {},
   "outputs": [],
   "source": []
  }
 ],
 "metadata": {
  "kernelspec": {
   "display_name": "Python 3",
   "language": "python",
   "name": "python3"
  },
  "language_info": {
   "codemirror_mode": {
    "name": "ipython",
    "version": 3
   },
   "file_extension": ".py",
   "mimetype": "text/x-python",
   "name": "python",
   "nbconvert_exporter": "python",
   "pygments_lexer": "ipython3",
   "version": "3.9.2"
  }
 },
 "nbformat": 4,
 "nbformat_minor": 5
}
